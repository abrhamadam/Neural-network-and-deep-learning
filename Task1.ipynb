{
  "nbformat": 4,
  "nbformat_minor": 0,
  "metadata": {
    "colab": {
      "provenance": []
    },
    "kernelspec": {
      "name": "python3",
      "display_name": "Python 3"
    },
    "language_info": {
      "name": "python"
    }
  },
  "cells": [
    {
      "cell_type": "markdown",
      "source": [
        "# import dependacies"
      ],
      "metadata": {
        "id": "ymzp_I_4Gm5Y"
      }
    },
    {
      "cell_type": "code",
      "execution_count": 1,
      "metadata": {
        "id": "x1EdbO03Glmv"
      },
      "outputs": [],
      "source": [
        "import numpy as np\n",
        "import pandas as pd\n",
        "from sklearn.model_selection import train_test_split\n",
        "from sklearn.metrics import mean_squared_error\n",
        "from keras.models import Sequential\n",
        "from keras.layers import Dense\n",
        "from keras.optimizers import Adam"
      ]
    },
    {
      "cell_type": "code",
      "source": [
        "\n",
        "data = pd.read_csv('/content/concrete_data.csv')"
      ],
      "metadata": {
        "id": "jmul8IleIsZN"
      },
      "execution_count": 12,
      "outputs": []
    },
    {
      "cell_type": "markdown",
      "source": [
        "# Separate features and target variable"
      ],
      "metadata": {
        "id": "UsX6ynTfJJKE"
      }
    },
    {
      "cell_type": "code",
      "source": [
        "X = data.drop('Strength', axis=1)\n",
        "y = data['Strength']"
      ],
      "metadata": {
        "id": "omZTnqUNI-1r"
      },
      "execution_count": 5,
      "outputs": []
    },
    {
      "cell_type": "markdown",
      "source": [
        "Split the data into test set and training set\n"
      ],
      "metadata": {
        "id": "nPQlENYXHDsG"
      }
    },
    {
      "cell_type": "code",
      "source": [
        "mse_list = []\n",
        "\n",
        "for _ in range(50):\n",
        "    X_train, X_test, y_train, y_test = train_test_split(X, y, test_size=0.3, random_state=np.random.randint(1, 100))"
      ],
      "metadata": {
        "id": "GfS2BABAHB8C"
      },
      "execution_count": 6,
      "outputs": []
    },
    {
      "cell_type": "markdown",
      "source": [
        "# build the model"
      ],
      "metadata": {
        "id": "GCEKVXm7JXSc"
      }
    },
    {
      "cell_type": "code",
      "source": [
        "model = Sequential()\n",
        "model.add(Dense(10, input_shape=(X_train.shape[1],), activation='relu'))\n",
        "model.add(Dense(1))  # Output layer with 1 node for regression\n",
        "model.compile(optimizer='adam', loss='mean_squared_error')"
      ],
      "metadata": {
        "id": "7CfPI0diJVlF"
      },
      "execution_count": 7,
      "outputs": []
    },
    {
      "cell_type": "code",
      "source": [
        "model.fit(X_train, y_train, epochs=50, verbose=0)"
      ],
      "metadata": {
        "colab": {
          "base_uri": "https://localhost:8080/"
        },
        "id": "jga53iG0JpqC",
        "outputId": "2ba65c8a-04ea-4443-fb3b-1de05eb25baf"
      },
      "execution_count": 8,
      "outputs": [
        {
          "output_type": "execute_result",
          "data": {
            "text/plain": [
              "<keras.src.callbacks.History at 0x79d58dffe320>"
            ]
          },
          "metadata": {},
          "execution_count": 8
        }
      ]
    },
    {
      "cell_type": "code",
      "source": [
        "    y_pred = model.predict(X_test)\n",
        "    mse = mean_squared_error(y_test, y_pred)\n",
        "    mse_list.append(mse)\n"
      ],
      "metadata": {
        "colab": {
          "base_uri": "https://localhost:8080/"
        },
        "id": "SyCIVSVNJqnY",
        "outputId": "e0ac4c15-3e9d-4940-c4e8-dd4de4404ba2"
      },
      "execution_count": 9,
      "outputs": [
        {
          "output_type": "stream",
          "name": "stdout",
          "text": [
            "10/10 [==============================] - 0s 2ms/step\n"
          ]
        }
      ]
    },
    {
      "cell_type": "code",
      "source": [
        "mean_mse = np.mean(mse_list)\n",
        "std_mse = np.std(mse_list)\n",
        "\n",
        "print(\"Mean Squared Error: {:.4f}\".format(mean_mse))\n",
        "print(\"Standard Deviation of Mean Squared Errors: {:.4f}\".format(std_mse))"
      ],
      "metadata": {
        "colab": {
          "base_uri": "https://localhost:8080/"
        },
        "id": "mNZccOjwJ1Ls",
        "outputId": "f5c15f74-e974-46c7-b643-83d4c2adf3f0"
      },
      "execution_count": 11,
      "outputs": [
        {
          "output_type": "stream",
          "name": "stdout",
          "text": [
            "Mean Squared Error: 176.1576\n",
            "Standard Deviation of Mean Squared Errors: 0.0000\n"
          ]
        }
      ]
    }
  ]
}