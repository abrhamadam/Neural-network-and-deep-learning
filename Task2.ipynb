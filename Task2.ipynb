{
  "nbformat": 4,
  "nbformat_minor": 0,
  "metadata": {
    "colab": {
      "provenance": []
    },
    "kernelspec": {
      "name": "python3",
      "display_name": "Python 3"
    },
    "language_info": {
      "name": "python"
    }
  },
  "cells": [
    {
      "cell_type": "markdown",
      "source": [
        "# import dependacies"
      ],
      "metadata": {
        "id": "ymzp_I_4Gm5Y"
      }
    },
    {
      "cell_type": "code",
      "execution_count": 18,
      "metadata": {
        "id": "x1EdbO03Glmv"
      },
      "outputs": [],
      "source": [
        "import numpy as np\n",
        "import pandas as pd\n",
        "from sklearn.model_selection import train_test_split\n",
        "from sklearn.preprocessing import StandardScaler\n",
        "from sklearn.metrics import mean_squared_error\n",
        "from keras.models import Sequential\n",
        "from keras.layers import Dense\n",
        "from keras.optimizers import Adam"
      ]
    },
    {
      "cell_type": "code",
      "source": [
        "\n",
        "data = pd.read_csv('/content/concrete_data.csv')"
      ],
      "metadata": {
        "id": "jmul8IleIsZN"
      },
      "execution_count": 19,
      "outputs": []
    },
    {
      "cell_type": "markdown",
      "source": [
        "# Separate features and target variable"
      ],
      "metadata": {
        "id": "UsX6ynTfJJKE"
      }
    },
    {
      "cell_type": "code",
      "source": [
        "X = data.drop('Strength', axis=1)\n",
        "y = data['Strength']"
      ],
      "metadata": {
        "id": "omZTnqUNI-1r"
      },
      "execution_count": 20,
      "outputs": []
    },
    {
      "cell_type": "markdown",
      "source": [
        "## Normalize the data"
      ],
      "metadata": {
        "id": "4obfl1JhKXke"
      }
    },
    {
      "cell_type": "code",
      "source": [
        "scaler = StandardScaler()\n",
        "X_normalized = scaler.fit_transform(X)"
      ],
      "metadata": {
        "id": "rlmevQ-CKT15"
      },
      "execution_count": 21,
      "outputs": []
    },
    {
      "cell_type": "code",
      "source": [
        "mse_list_normalized = []\n",
        "\n",
        "for _ in range(50):\n",
        "    X_train, X_test, y_train, y_test = train_test_split(X_normalized, y, test_size=0.3, random_state=np.random.randint(1, 100))\n"
      ],
      "metadata": {
        "id": "7BSdsoifLS62"
      },
      "execution_count": 22,
      "outputs": []
    },
    {
      "cell_type": "markdown",
      "source": [
        "Split the data into test set and training set\n"
      ],
      "metadata": {
        "id": "nPQlENYXHDsG"
      }
    },
    {
      "cell_type": "code",
      "source": [
        "mse_list = []\n",
        "\n",
        "for _ in range(50):\n",
        "    X_train, X_test, y_train, y_test = train_test_split(X, y, test_size=0.3, random_state=np.random.randint(1, 100))"
      ],
      "metadata": {
        "id": "GfS2BABAHB8C"
      },
      "execution_count": 11,
      "outputs": []
    },
    {
      "cell_type": "markdown",
      "source": [
        "# build the model"
      ],
      "metadata": {
        "id": "GCEKVXm7JXSc"
      }
    },
    {
      "cell_type": "code",
      "source": [
        "model = Sequential()\n",
        "model.add(Dense(10, input_shape=(X_train.shape[1],), activation='relu'))\n",
        "model.add(Dense(1))  # Output layer with 1 node for regression\n",
        "model.compile(optimizer='adam', loss='mean_squared_error')"
      ],
      "metadata": {
        "id": "7CfPI0diJVlF"
      },
      "execution_count": 13,
      "outputs": []
    },
    {
      "cell_type": "code",
      "source": [
        "model.fit(X_train, y_train, epochs=50, verbose=0)"
      ],
      "metadata": {
        "colab": {
          "base_uri": "https://localhost:8080/"
        },
        "id": "jga53iG0JpqC",
        "outputId": "4d5cda2f-787c-4d11-cab7-980c6cc5885c"
      },
      "execution_count": 14,
      "outputs": [
        {
          "output_type": "execute_result",
          "data": {
            "text/plain": [
              "<keras.src.callbacks.History at 0x7c918f2527d0>"
            ]
          },
          "metadata": {},
          "execution_count": 14
        }
      ]
    },
    {
      "cell_type": "code",
      "source": [
        "    y_pred = model.predict(X_test)\n",
        "    mse = mean_squared_error(y_test, y_pred)\n",
        "    mse_list.append(mse)\n"
      ],
      "metadata": {
        "colab": {
          "base_uri": "https://localhost:8080/"
        },
        "id": "SyCIVSVNJqnY",
        "outputId": "7c1be36f-8796-48a8-beaa-602c2b71b87b"
      },
      "execution_count": 15,
      "outputs": [
        {
          "output_type": "stream",
          "name": "stdout",
          "text": [
            "10/10 [==============================] - 0s 2ms/step\n"
          ]
        }
      ]
    },
    {
      "cell_type": "code",
      "source": [
        "mean_mse_normalized = np.mean(mse_list_normalized)\n",
        "std_mse_normalized = np.std(mse_list_normalized)\n",
        "\n",
        "print(\"Mean Squared Error (Normalized Data): {:.4f}\".format(mean_mse_normalized))\n",
        "print(\"Standard Deviation of Mean Squared Errors (Normalized Data): {:.4f}\".format(std_mse_normalized))"
      ],
      "metadata": {
        "colab": {
          "base_uri": "https://localhost:8080/"
        },
        "id": "mNZccOjwJ1Ls",
        "outputId": "11548b03-0595-4dbd-89a7-d1dd93c0b984"
      },
      "execution_count": 23,
      "outputs": [
        {
          "output_type": "stream",
          "name": "stdout",
          "text": [
            "Mean Squared Error (Normalized Data): nan\n",
            "Standard Deviation of Mean Squared Errors (Normalized Data): nan\n"
          ]
        },
        {
          "output_type": "stream",
          "name": "stderr",
          "text": [
            "/usr/local/lib/python3.10/dist-packages/numpy/core/fromnumeric.py:3504: RuntimeWarning: Mean of empty slice.\n",
            "  return _methods._mean(a, axis=axis, dtype=dtype,\n",
            "/usr/local/lib/python3.10/dist-packages/numpy/core/_methods.py:129: RuntimeWarning: invalid value encountered in scalar divide\n",
            "  ret = ret.dtype.type(ret / rcount)\n",
            "/usr/local/lib/python3.10/dist-packages/numpy/core/_methods.py:206: RuntimeWarning: Degrees of freedom <= 0 for slice\n",
            "  ret = _var(a, axis=axis, dtype=dtype, out=out, ddof=ddof,\n",
            "/usr/local/lib/python3.10/dist-packages/numpy/core/_methods.py:163: RuntimeWarning: invalid value encountered in divide\n",
            "  arrmean = um.true_divide(arrmean, div, out=arrmean,\n",
            "/usr/local/lib/python3.10/dist-packages/numpy/core/_methods.py:198: RuntimeWarning: invalid value encountered in scalar divide\n",
            "  ret = ret.dtype.type(ret / rcount)\n"
          ]
        }
      ]
    }
  ]
}